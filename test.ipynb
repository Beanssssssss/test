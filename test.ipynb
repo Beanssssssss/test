{
 "cells": [
  {
   "cell_type": "code",
   "execution_count": null,
   "id": "21354d61",
   "metadata": {},
   "outputs": [],
   "source": [
    "pip install nbstripout\n",
    "nbstripout --install"
   ]
  },
  {
   "cell_type": "code",
   "execution_count": null,
   "id": "560f2172",
   "metadata": {},
   "outputs": [],
   "source": []
  }
 ],
 "metadata": {
  "kernelspec": {
   "display_name": "hateslop1",
   "language": "python",
   "name": "python3"
  },
  "language_info": {
   "name": "python",
   "version": "3.10.16"
  }
 },
 "nbformat": 4,
 "nbformat_minor": 5
}
